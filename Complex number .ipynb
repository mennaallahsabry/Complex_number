{
 "cells": [
  {
   "cell_type": "code",
   "execution_count": 3,
   "id": "2f364a50",
   "metadata": {},
   "outputs": [
    {
     "name": "stdout",
     "output_type": "stream",
     "text": [
      "Test case 1:\n",
      "C1 = 2.00+1.00i\n",
      "C2 = 5.00+6.00i\n",
      "C1 + C2 = 7.00+7.00i\n",
      "C1 - C2 = -3.00-5.00i\n",
      "C1 * C2 = 4.00+17.00i\n",
      "C1 / C2 = 0.26-0.11i\n",
      "mod(C1) = 2.24+0.00i\n",
      "mod(C2) = 7.81+0.00i\n"
     ]
    }
   ],
   "source": [
    "class ComplexNumber:\n",
    "    def __init__(self, real, imag):\n",
    "        self.real = real\n",
    "        self.imag = imag\n",
    "\n",
    "    def __add__(self, other):\n",
    "        return ComplexNumber(self.real + other.real, self.imag + other.imag)\n",
    "\n",
    "    def __sub__(self, other):\n",
    "        return ComplexNumber(self.real - other.real, self.imag - other.imag)\n",
    "\n",
    "    def __mul__(self, other):\n",
    "        real_part = self.real * other.real - self.imag * other.imag\n",
    "        imag_part = self.real * other.imag + self.imag * other.real\n",
    "        return ComplexNumber(real_part, imag_part)\n",
    "\n",
    "    def __truediv__(self, other):\n",
    "        denominator = other.real**2 + other.imag**2\n",
    "        real_part = (self.real * other.real + self.imag * other.imag) / denominator\n",
    "        imag_part = (self.imag * other.real - self.real * other.imag) / denominator\n",
    "        return ComplexNumber(real_part, imag_part)\n",
    "\n",
    "    def modulus(self):\n",
    "        return (self.real**2 + self.imag**2)**0.5\n",
    "\n",
    "    def __str__(self):\n",
    "        if self.imag == 0:\n",
    "            return \"{:.2f}+0.00i\".format(self.real)\n",
    "        elif self.real == 0:\n",
    "            return \"0.00{:+.2f}i\".format(self.imag)\n",
    "        elif self.imag > 0:\n",
    "            return \"{:.2f}+{:.2f}i\".format(self.real, self.imag)\n",
    "        else:\n",
    "            return \"{:.2f}{:+.2f}i\".format(self.real, self.imag)\n",
    "\n",
    "# Test cases\n",
    "test_cases = [\n",
    "    (2, 1, 5, 6)\n",
    "]\n",
    "\n",
    "for idx, (real1, imag1, real2, imag2) in enumerate(test_cases):\n",
    "    c1 = ComplexNumber(real1, imag1)\n",
    "    c2 = ComplexNumber(real2, imag2)\n",
    "\n",
    "    print(f\"Test case {idx + 1}:\")\n",
    "    print(\"C1 =\", c1)\n",
    "    print(\"C2 =\", c2)\n",
    "    print(\"C1 + C2 =\", c1 + c2)\n",
    "    print(\"C1 - C2 =\", c1 - c2)\n",
    "    print(\"C1 * C2 =\", c1 * c2)\n",
    "    print(\"C1 / C2 =\", c1 / c2)\n",
    "    print(\"mod(C1) =\", \"{:.2f}+0.00i\".format(c1.modulus()))\n",
    "    print(\"mod(C2) =\", \"{:.2f}+0.00i\".format(c2.modulus()))\n"
   ]
  },
  {
   "cell_type": "code",
   "execution_count": null,
   "id": "5fbad8d8",
   "metadata": {},
   "outputs": [],
   "source": []
  }
 ],
 "metadata": {
  "kernelspec": {
   "display_name": "Python 3 (ipykernel)",
   "language": "python",
   "name": "python3"
  },
  "language_info": {
   "codemirror_mode": {
    "name": "ipython",
    "version": 3
   },
   "file_extension": ".py",
   "mimetype": "text/x-python",
   "name": "python",
   "nbconvert_exporter": "python",
   "pygments_lexer": "ipython3",
   "version": "3.9.13"
  }
 },
 "nbformat": 4,
 "nbformat_minor": 5
}
